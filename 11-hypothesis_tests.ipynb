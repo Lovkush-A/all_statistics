{
 "cells": [
  {
   "cell_type": "code",
   "execution_count": 9,
   "id": "revolutionary-focus",
   "metadata": {},
   "outputs": [],
   "source": [
    "import numpy as np\n",
    "import pandas as pd\n",
    "from scipy.stats import chi2_contingency\n",
    "from scipy.stats import chi2"
   ]
  },
  {
   "cell_type": "markdown",
   "id": "handy-russell",
   "metadata": {},
   "source": [
    "## Question 8\n",
    "\n",
    "Investigate following mortality patterns\n",
    "\n",
    "| week | chinese | jewish |\n",
    "|------|---------|--------|\n",
    "| -2   | 55      | 141    |\n",
    "| -1   | 33      | 145    |\n",
    "| 1    | 70      | 139    |\n",
    "| 2    | 49      | 161    |\n",
    "\n",
    "Table shows number of old women who died in the weeks before and after the Chinese Harvest Moon Festival"
   ]
  },
  {
   "cell_type": "code",
   "execution_count": 3,
   "id": "ongoing-white",
   "metadata": {},
   "outputs": [],
   "source": [
    "data = np.array([\n",
    "    [55, 141],\n",
    "    [33, 145],\n",
    "    [70, 139],\n",
    "    [49, 161]\n",
    "])"
   ]
  },
  {
   "cell_type": "markdown",
   "id": "billion-wages",
   "metadata": {},
   "source": [
    "### Test independence between race and week of death using chi2"
   ]
  },
  {
   "cell_type": "code",
   "execution_count": 4,
   "id": "subsequent-diploma",
   "metadata": {},
   "outputs": [
    {
     "data": {
      "text/plain": [
       "(12.420794151882923,\n",
       " 0.006072304928267781,\n",
       " 3,\n",
       " array([[ 51.16267339, 144.83732661],\n",
       "        [ 46.46406053, 131.53593947],\n",
       "        [ 54.55611602, 154.44388398],\n",
       "        [ 54.81715006, 155.18284994]]))"
      ]
     },
     "execution_count": 4,
     "metadata": {},
     "output_type": "execute_result"
    }
   ],
   "source": [
    "chi2_contingency(data)"
   ]
  },
  {
   "cell_type": "markdown",
   "id": "invalid-patch",
   "metadata": {},
   "source": [
    "p-value of 0.006 shows there is strong evidence that that race and week of death are dependent"
   ]
  },
  {
   "cell_type": "markdown",
   "id": "assisted-blind",
   "metadata": {},
   "source": [
    "### test that number of deaths for jewish people is independent of week\n",
    "\n",
    "Let pi = probability of death in each week. H0: pi = 0.25 for all i"
   ]
  },
  {
   "cell_type": "code",
   "execution_count": 13,
   "id": "thrown-madness",
   "metadata": {},
   "outputs": [
    {
     "data": {
      "text/plain": [
       "array([55, 33, 70, 49])"
      ]
     },
     "execution_count": 13,
     "metadata": {},
     "output_type": "execute_result"
    }
   ],
   "source": [
    "chinese_deaths = data[:,0]\n",
    "chinese_deaths"
   ]
  },
  {
   "cell_type": "code",
   "execution_count": 14,
   "id": "subjective-intervention",
   "metadata": {},
   "outputs": [
    {
     "data": {
      "text/plain": [
       "array([51.75, 51.75, 51.75, 51.75])"
      ]
     },
     "execution_count": 14,
     "metadata": {},
     "output_type": "execute_result"
    }
   ],
   "source": [
    "chinese_deaths_expected = np.full((4,), 0.25*chinese_deaths.sum())\n",
    "chinese_deaths_expected"
   ]
  },
  {
   "cell_type": "code",
   "execution_count": 22,
   "id": "negative-physics",
   "metadata": {},
   "outputs": [
    {
     "data": {
      "text/plain": [
       "13.579710144927537"
      ]
     },
     "execution_count": 22,
     "metadata": {},
     "output_type": "execute_result"
    }
   ],
   "source": [
    "test_statistic = (\n",
    "    (chinese_deaths - chinese_deaths_expected) ** 2 / chinese_deaths_expected\n",
    ").sum()\n",
    "\n",
    "test_statistic"
   ]
  },
  {
   "cell_type": "code",
   "execution_count": 23,
   "id": "demographic-estimate",
   "metadata": {},
   "outputs": [
    {
     "data": {
      "text/plain": [
       "0.0035368204078958243"
      ]
     },
     "execution_count": 23,
     "metadata": {},
     "output_type": "execute_result"
    }
   ],
   "source": [
    "p_value = 1-chi2.cdf(test_statistic, df=3)\n",
    "p_value"
   ]
  },
  {
   "cell_type": "markdown",
   "id": "published-configuration",
   "metadata": {},
   "source": [
    "p-value of 0.003 is strong evidence that probability of death for chinese women depends on week number."
   ]
  },
  {
   "cell_type": "markdown",
   "id": "reserved-registration",
   "metadata": {},
   "source": [
    "### test that number of deaths for jewish people is independent of week\n",
    "\n",
    "Let pi = probability of death in each week. H0: pi = 0.25 for all i"
   ]
  },
  {
   "cell_type": "code",
   "execution_count": 24,
   "id": "dying-paper",
   "metadata": {},
   "outputs": [
    {
     "data": {
      "text/plain": [
       "array([141, 145, 139, 161])"
      ]
     },
     "execution_count": 24,
     "metadata": {},
     "output_type": "execute_result"
    }
   ],
   "source": [
    "jewish_deaths = data[:,1]\n",
    "jewish_deaths"
   ]
  },
  {
   "cell_type": "code",
   "execution_count": 25,
   "id": "ignored-disclaimer",
   "metadata": {},
   "outputs": [
    {
     "data": {
      "text/plain": [
       "array([146.5, 146.5, 146.5, 146.5])"
      ]
     },
     "execution_count": 25,
     "metadata": {},
     "output_type": "execute_result"
    }
   ],
   "source": [
    "jewish_deaths_expected = np.full((4,), 0.25*jewish_deaths.sum())\n",
    "jewish_deaths_expected"
   ]
  },
  {
   "cell_type": "code",
   "execution_count": 26,
   "id": "growing-windows",
   "metadata": {},
   "outputs": [
    {
     "data": {
      "text/plain": [
       "2.040955631399317"
      ]
     },
     "execution_count": 26,
     "metadata": {},
     "output_type": "execute_result"
    }
   ],
   "source": [
    "test_statistic = (\n",
    "    (jewish_deaths - jewish_deaths_expected) ** 2 / jewish_deaths_expected\n",
    ").sum()\n",
    "\n",
    "test_statistic"
   ]
  },
  {
   "cell_type": "code",
   "execution_count": 27,
   "id": "cardiac-sierra",
   "metadata": {},
   "outputs": [
    {
     "data": {
      "text/plain": [
       "0.5639498711784423"
      ]
     },
     "execution_count": 27,
     "metadata": {},
     "output_type": "execute_result"
    }
   ],
   "source": [
    "p_value = 1-chi2.cdf(test_statistic, df=3)\n",
    "p_value"
   ]
  },
  {
   "cell_type": "markdown",
   "id": "assisted-drilling",
   "metadata": {},
   "source": [
    "p-value of 0.56 is evidence that number of deaths for jewish women is independent of week number"
   ]
  },
  {
   "cell_type": "code",
   "execution_count": null,
   "id": "governmental-postage",
   "metadata": {},
   "outputs": [],
   "source": []
  }
 ],
 "metadata": {
  "kernelspec": {
   "display_name": "Python 3",
   "language": "python",
   "name": "python3"
  },
  "language_info": {
   "codemirror_mode": {
    "name": "ipython",
    "version": 3
   },
   "file_extension": ".py",
   "mimetype": "text/x-python",
   "name": "python",
   "nbconvert_exporter": "python",
   "pygments_lexer": "ipython3",
   "version": "3.8.5"
  }
 },
 "nbformat": 4,
 "nbformat_minor": 5
}
