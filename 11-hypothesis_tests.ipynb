{
 "cells": [
  {
   "cell_type": "code",
   "execution_count": 1,
   "id": "hindu-binding",
   "metadata": {},
   "outputs": [],
   "source": [
    "import numpy as np\n",
    "import pandas as pd\n",
    "from scipy.stats import chi2_contingency\n",
    "from scipy.stats import chi2\n",
    "from scipy.stats import norm"
   ]
  },
  {
   "cell_type": "markdown",
   "id": "religious-muslim",
   "metadata": {},
   "source": [
    "## Question 8\n",
    "\n",
    "Investigate following mortality patterns\n",
    "\n",
    "| week | chinese | jewish |\n",
    "|------|---------|--------|\n",
    "| -2   | 55      | 141    |\n",
    "| -1   | 33      | 145    |\n",
    "| 1    | 70      | 139    |\n",
    "| 2    | 49      | 161    |\n",
    "\n",
    "Table shows number of old women who died in the weeks before and after the Chinese Harvest Moon Festival"
   ]
  },
  {
   "cell_type": "code",
   "execution_count": 2,
   "id": "uniform-operation",
   "metadata": {},
   "outputs": [],
   "source": [
    "data = np.array([\n",
    "    [55, 141],\n",
    "    [33, 145],\n",
    "    [70, 139],\n",
    "    [49, 161]\n",
    "])"
   ]
  },
  {
   "cell_type": "markdown",
   "id": "pharmaceutical-jimmy",
   "metadata": {},
   "source": [
    "### Test independence between race and week of death using chi2"
   ]
  },
  {
   "cell_type": "code",
   "execution_count": 3,
   "id": "continuous-calculation",
   "metadata": {},
   "outputs": [
    {
     "data": {
      "text/plain": [
       "(12.420794151882923,\n",
       " 0.006072304928267781,\n",
       " 3,\n",
       " array([[ 51.16267339, 144.83732661],\n",
       "        [ 46.46406053, 131.53593947],\n",
       "        [ 54.55611602, 154.44388398],\n",
       "        [ 54.81715006, 155.18284994]]))"
      ]
     },
     "execution_count": 3,
     "metadata": {},
     "output_type": "execute_result"
    }
   ],
   "source": [
    "chi2_contingency(data)"
   ]
  },
  {
   "cell_type": "markdown",
   "id": "registered-twins",
   "metadata": {},
   "source": [
    "p-value of 0.006 shows there is strong evidence that that race and week of death are dependent"
   ]
  },
  {
   "cell_type": "markdown",
   "id": "normal-listening",
   "metadata": {},
   "source": [
    "### test that number of deaths for chinese people is independent of week\n",
    "\n",
    "Let pi = probability of death in each week. H0: pi = 0.25 for all i"
   ]
  },
  {
   "cell_type": "code",
   "execution_count": 4,
   "id": "premium-virgin",
   "metadata": {},
   "outputs": [
    {
     "data": {
      "text/plain": [
       "array([55, 33, 70, 49])"
      ]
     },
     "execution_count": 4,
     "metadata": {},
     "output_type": "execute_result"
    }
   ],
   "source": [
    "chinese_deaths = data[:,0]\n",
    "chinese_deaths"
   ]
  },
  {
   "cell_type": "code",
   "execution_count": 5,
   "id": "nuclear-university",
   "metadata": {},
   "outputs": [
    {
     "data": {
      "text/plain": [
       "array([51.75, 51.75, 51.75, 51.75])"
      ]
     },
     "execution_count": 5,
     "metadata": {},
     "output_type": "execute_result"
    }
   ],
   "source": [
    "chinese_deaths_expected = np.full((4,), 0.25*chinese_deaths.sum())\n",
    "chinese_deaths_expected"
   ]
  },
  {
   "cell_type": "code",
   "execution_count": 6,
   "id": "confidential-demand",
   "metadata": {},
   "outputs": [
    {
     "data": {
      "text/plain": [
       "13.579710144927537"
      ]
     },
     "execution_count": 6,
     "metadata": {},
     "output_type": "execute_result"
    }
   ],
   "source": [
    "test_statistic = (\n",
    "    (chinese_deaths - chinese_deaths_expected) ** 2 / chinese_deaths_expected\n",
    ").sum()\n",
    "\n",
    "test_statistic"
   ]
  },
  {
   "cell_type": "code",
   "execution_count": 7,
   "id": "severe-effort",
   "metadata": {},
   "outputs": [
    {
     "data": {
      "text/plain": [
       "0.0035368204078958243"
      ]
     },
     "execution_count": 7,
     "metadata": {},
     "output_type": "execute_result"
    }
   ],
   "source": [
    "p_value = 1-chi2.cdf(test_statistic, df=3)\n",
    "p_value"
   ]
  },
  {
   "cell_type": "markdown",
   "id": "czech-oracle",
   "metadata": {},
   "source": [
    "p-value of 0.003 is strong evidence that probability of death for chinese women depends on week number."
   ]
  },
  {
   "cell_type": "markdown",
   "id": "maritime-outdoors",
   "metadata": {},
   "source": [
    "### test that number of deaths for jewish people is independent of week\n",
    "\n",
    "Let pi = probability of death in each week. H0: pi = 0.25 for all i"
   ]
  },
  {
   "cell_type": "code",
   "execution_count": 8,
   "id": "reserved-history",
   "metadata": {},
   "outputs": [
    {
     "data": {
      "text/plain": [
       "array([141, 145, 139, 161])"
      ]
     },
     "execution_count": 8,
     "metadata": {},
     "output_type": "execute_result"
    }
   ],
   "source": [
    "jewish_deaths = data[:,1]\n",
    "jewish_deaths"
   ]
  },
  {
   "cell_type": "code",
   "execution_count": 9,
   "id": "peripheral-captain",
   "metadata": {},
   "outputs": [
    {
     "data": {
      "text/plain": [
       "array([146.5, 146.5, 146.5, 146.5])"
      ]
     },
     "execution_count": 9,
     "metadata": {},
     "output_type": "execute_result"
    }
   ],
   "source": [
    "jewish_deaths_expected = np.full((4,), 0.25*jewish_deaths.sum())\n",
    "jewish_deaths_expected"
   ]
  },
  {
   "cell_type": "code",
   "execution_count": 10,
   "id": "direct-mandate",
   "metadata": {},
   "outputs": [
    {
     "data": {
      "text/plain": [
       "2.040955631399317"
      ]
     },
     "execution_count": 10,
     "metadata": {},
     "output_type": "execute_result"
    }
   ],
   "source": [
    "test_statistic = (\n",
    "    (jewish_deaths - jewish_deaths_expected) ** 2 / jewish_deaths_expected\n",
    ").sum()\n",
    "\n",
    "test_statistic"
   ]
  },
  {
   "cell_type": "code",
   "execution_count": 11,
   "id": "danish-tunnel",
   "metadata": {},
   "outputs": [
    {
     "data": {
      "text/plain": [
       "0.5639498711784423"
      ]
     },
     "execution_count": 11,
     "metadata": {},
     "output_type": "execute_result"
    }
   ],
   "source": [
    "p_value = 1-chi2.cdf(test_statistic, df=3)\n",
    "p_value"
   ]
  },
  {
   "cell_type": "markdown",
   "id": "heavy-reaction",
   "metadata": {},
   "source": [
    "p-value of 0.56 is evidence that number of deaths for jewish women is independent of week number"
   ]
  },
  {
   "cell_type": "markdown",
   "id": "cross-divorce",
   "metadata": {},
   "source": [
    "## Question 9\n",
    "Conducting hypothesis tests that a new drugs are better than placebo at reducing nausea\n",
    "\n",
    "|                        | Number of Patients | Incidence of Nausea |\n",
    "|------------------------|--------------------|---------------------|\n",
    "| Placebo                | 80                 | 45                  |\n",
    "| Chlorpromazine         | 75                 | 26                  |\n",
    "| Dimenhydrinate         | 85                 | 52                  |\n",
    "| Pentobarbital (100 mg) | 67                 | 35                  |\n",
    "| Pentobarbital (150 mg) | 85                 | 37                  |"
   ]
  },
  {
   "cell_type": "code",
   "execution_count": 12,
   "id": "theoretical-coast",
   "metadata": {},
   "outputs": [
    {
     "name": "stdout",
     "output_type": "stream",
     "text": [
      "[[80 35]\n",
      " [75 49]\n",
      " [85 33]\n",
      " [67 32]\n",
      " [85 48]]\n"
     ]
    }
   ],
   "source": [
    "data = np.array([\n",
    "    [80, 45],\n",
    "    [75, 26],\n",
    "    [85, 52],\n",
    "    [67, 35],\n",
    "    [85, 37],\n",
    "])\n",
    "\n",
    "# recalculate second column to correspond to successes, rather than failures\n",
    "data[:,1] = data[:,0] - data[:,1]\n",
    "\n",
    "print(data)"
   ]
  },
  {
   "cell_type": "code",
   "execution_count": 13,
   "id": "matched-bernard",
   "metadata": {},
   "outputs": [],
   "source": [
    "def test_p2_gr_p1(n1, x1, n2, x2):\n",
    "    \"\"\"\n",
    "    behaviour:\n",
    "        conduct one-sided wald test\n",
    "        assume X1 ~ Bin(n1, p1), X2 ~ Bin(n2, p2) and X1 and X2 are independent\n",
    "        H0: p1=p2, H1: p2>p1\n",
    "        test statistic is t = p2_hat - p1_hat\n",
    "        under h0, t  approximately follows N(0, var(p1_hat)+var(p2_hat))\n",
    "    \n",
    "    inputs:\n",
    "        n1 and n2: parameters of distributions X1 and X2\n",
    "        x1, x2: observed instances of X1 and X2\n",
    "    \n",
    "    output:\n",
    "        results dictionary containing\n",
    "            p1_hat\n",
    "            p2_hat\n",
    "            t\n",
    "            se\n",
    "            p-value\n",
    "    \n",
    "   \n",
    "    \"\"\"\n",
    "    p1_hat = x1/n1\n",
    "    p2_hat = x2/n2\n",
    "    \n",
    "    t = p2_hat - p1_hat\n",
    "    \n",
    "    se = (p1_hat*(1-p1_hat)/n1 + p2_hat*(1-p2_hat)/n2)**0.5\n",
    "    \n",
    "    Z = t/se\n",
    "    \n",
    "    p_value = 1 - norm.cdf(Z)\n",
    "    \n",
    "    results = dict(\n",
    "        p1_hat = p1_hat,\n",
    "        p2_hat = p2_hat,\n",
    "        t = t,\n",
    "        se = se,\n",
    "        p_value = p_value\n",
    "    )\n",
    "    \n",
    "    return results"
   ]
  },
  {
   "cell_type": "code",
   "execution_count": 14,
   "id": "informal-insulin",
   "metadata": {},
   "outputs": [
    {
     "name": "stdout",
     "output_type": "stream",
     "text": [
      "Treatment 1\n",
      "{'p1_hat': 0.4375, 'p2_hat': 0.6533333333333333, 't': 0.21583333333333332, 'se': 0.07807703712905512, 'p_value': 0.002851695777628893}\n",
      "\n",
      "Treatment 2\n",
      "{'p1_hat': 0.4375, 'p2_hat': 0.38823529411764707, 't': -0.04926470588235293, 'se': 0.07661847879507237, 'p_value': 0.7398838172885266}\n",
      "\n",
      "Treatment 3\n",
      "{'p1_hat': 0.4375, 'p2_hat': 0.47761194029850745, 't': 0.040111940298507454, 'se': 0.08246231979025985, 'p_value': 0.31333204736569453}\n",
      "\n",
      "Treatment 4\n",
      "{'p1_hat': 0.4375, 'p2_hat': 0.5647058823529412, 't': 0.12720588235294117, 'se': 0.0772534224000257, 'p_value': 0.04981961670910118}\n",
      "\n"
     ]
    }
   ],
   "source": [
    "for i in range(1,5):\n",
    "    print(f'Treatment {i}')\n",
    "    print(test_p2_gr_p1(data[0,0], data[0,1], data[i,0], data[i,1]))\n",
    "    print()"
   ]
  },
  {
   "cell_type": "markdown",
   "id": "protected-width",
   "metadata": {},
   "source": [
    "p-values are 0.0028, 0.739, 0.313, 0.049\n",
    "\n",
    "#### No corrections for multiple tests\n",
    "at 5% signifiance level, we would conclude that treatment 1 and treatment 4 have significant results.\n",
    "\n",
    "#### Bonferonni corrections\n",
    "cutoff becomes 0.0125 rather than 0.05, so only treatment 1 would be considered significant\n",
    "\n",
    "#### Benjamni-Hochberg:\n",
    "ordered p-values: 0.0028, 0.049, 0.313, 0.739\n",
    "\n",
    "compare p-values to: 0.0125, 0.025, 0.0375, 0.05\n",
    "\n",
    "get same conclusion as bonferonni: only consider treatment 1 significant.\n",
    "\n",
    "#### Final conclusions\n",
    "strong evidence that treatment 1 is significant, some evidence that treatment 4 is significant"
   ]
  },
  {
   "cell_type": "code",
   "execution_count": null,
   "id": "essential-division",
   "metadata": {},
   "outputs": [],
   "source": []
  }
 ],
 "metadata": {
  "kernelspec": {
   "display_name": "Python 3",
   "language": "python",
   "name": "python3"
  },
  "language_info": {
   "codemirror_mode": {
    "name": "ipython",
    "version": 3
   },
   "file_extension": ".py",
   "mimetype": "text/x-python",
   "name": "python",
   "nbconvert_exporter": "python",
   "pygments_lexer": "ipython3",
   "version": "3.8.5"
  }
 },
 "nbformat": 4,
 "nbformat_minor": 5
}
