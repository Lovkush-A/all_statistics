{
 "cells": [
  {
   "cell_type": "markdown",
   "id": "appreciated-somalia",
   "metadata": {},
   "source": [
    "# All Statistics 8.5.3\n",
    "\n",
    "Create a sample of size 100 from normal distribution, and use DKW inequality to create a 95% confidence band from the sample. Then check wither the normal cdf lies in the confidence band.\n",
    "\n",
    "Do this 1000 times to see what the confidence actually is of the constructed confidence bands.\n",
    "\n",
    "Doing this experiment once gave a confidence of 0.971.\n",
    "Standard error of this confidence approximately equals sqrt(0.971*(1-0.971)/1000) = 0.005."
   ]
  },
  {
   "cell_type": "code",
   "execution_count": 2,
   "id": "complex-honey",
   "metadata": {},
   "outputs": [],
   "source": [
    "from tqdm.notebook import tqdm\n",
    "\n",
    "import math\n",
    "import numpy as np\n",
    "from scipy.stats import norm\n",
    "from numba import vectorize, float64\n",
    "\n",
    "import matplotlib.pyplot as plt\n",
    "\n",
    "import warnings\n",
    "warnings.filterwarnings('ignore')"
   ]
  },
  {
   "cell_type": "code",
   "execution_count": 2,
   "id": "sorted-winner",
   "metadata": {},
   "outputs": [],
   "source": [
    "np.random.seed(0)"
   ]
  },
  {
   "cell_type": "code",
   "execution_count": 51,
   "id": "described-importance",
   "metadata": {},
   "outputs": [],
   "source": [
    "class StepwiseFunction():\n",
    "    \"\"\"\n",
    "    Objects of this class are functions defined as follows:\n",
    "    given x0<...<xn and y0,...,y(n+1):\n",
    "    -if xi <= x < x(i+1), then f(x) = y(i+1)\n",
    "    -if x < x0, then f(x) = y0\n",
    "    -if xn <= x, then f(x) = y(n+1)\n",
    "    \n",
    "    Created to be right continuous as the class is designed for\n",
    "    cumulative distributive functions of discrete distributions\n",
    "    \"\"\"\n",
    "    def __init__(self, input_cutoffs, output_values):\n",
    "        \"\"\"\n",
    "        Parameters\n",
    "        ----------\n",
    "        input_cutoffs\n",
    "            np array. ordered list of values at which the\n",
    "            functions' values change / list of discontinuities of\n",
    "            the function\n",
    "        output_values\n",
    "            np array. list of output values of the function\n",
    "        \"\"\"\n",
    "        self.input_cutoffs = input_cutoffs\n",
    "        self.output_values = output_values\n",
    "    \n",
    "    def __call__(self, x):\n",
    "        \"\"\"\n",
    "        writing self_cutoffs as x0<...<xn and\n",
    "        output_values as y0,...,y(n+1), define function so that:\n",
    "        -if xi <= x < x(i+1), then f(x) = y(i+1)\n",
    "        -if x < x0, then f(x) = y0\n",
    "        -if xn <= x, then f(x) = y(n+1)\n",
    "\n",
    "        Created to be right continuous as the class is designed for\n",
    "        cumulative distributive functions of discrete distributions\n",
    "        \"\"\"\n",
    "        for index in range(len(self.input_cutoffs)):\n",
    "            if x < self.input_cutoffs[index]:\n",
    "                return self.output_values[index]\n",
    "            else:\n",
    "                continue\n",
    "        \n",
    "        # if function has not yet returned, then x >= xn\n",
    "        return self.output_values[-1]\n",
    "    \n",
    "    def plot(self, ax, padding = 2, color = 'blue'):\n",
    "        \"\"\"\n",
    "        plot the function represented by self onto the provided axis\n",
    "        \n",
    "        Parameters\n",
    "        ----------\n",
    "        ax\n",
    "            the axis object in which the plots should be added\n",
    "        padding\n",
    "            how far below x0 and above xn we should plot\n",
    "        color\n",
    "            color of new data to be added to the plot\n",
    "        \n",
    "        Returns\n",
    "        -------\n",
    "        ax\n",
    "            axis with new data added to it\n",
    "        \"\"\"\n",
    "        xs = self.input_cutoffs\n",
    "        ys = self.output_values\n",
    "        \n",
    "        # plot regions between x0 and xn\n",
    "        for i in range(0, len(xs)-1):\n",
    "            x = [xs[i], xs[i+1]]\n",
    "            y = [ys[i+1], ys[i+1]]\n",
    "            ax.plot(x, y, color=color)\n",
    "            \n",
    "        # plot regions below x0 and above xn\n",
    "        ax.plot([xs[0] - padding, xs[0]], [ys[0], ys[0]], color = color)\n",
    "        ax.plot([xs[-1], xs[-1] + [padding]], [ys[-1], ys[-1]], color = color)\n",
    "        \n",
    "        # plot points to indicate the value of the function at the cutoffs\n",
    "        ax.scatter(xs, ys[1:], color=color)\n",
    "        \n",
    "        return ax\n",
    "        "
   ]
  },
  {
   "cell_type": "code",
   "execution_count": 52,
   "id": "outstanding-board",
   "metadata": {},
   "outputs": [
    {
     "name": "stdout",
     "output_type": "stream",
     "text": [
      "[0 1 2 3 4]\n",
      "[0 1 2 3 4 5]\n"
     ]
    }
   ],
   "source": [
    "xs = np.arange(5)\n",
    "ys = np.arange(6)\n",
    "\n",
    "test = StepwiseFunction(xs, ys)\n",
    "\n",
    "print(test.input_cutoffs)\n",
    "print(test.output_values)"
   ]
  },
  {
   "cell_type": "code",
   "execution_count": 54,
   "id": "neutral-compatibility",
   "metadata": {},
   "outputs": [
    {
     "data": {
      "image/png": "[encoded data removed]",
      "text/plain": [
       "<Figure size 432x288 with 1 Axes>"
      ]
     },
     "metadata": {
      "needs_background": "light"
     },
     "output_type": "display_data"
    }
   ],
   "source": [
    "fig, ax = plt.subplots()\n",
    "ax = test.plot(ax, color = 'red', padding = 5)"
   ]
  },
  {
   "cell_type": "code",
   "execution_count": null,
   "id": "fifteen-photographer",
   "metadata": {},
   "outputs": [],
   "source": []
  },
  {
   "cell_type": "code",
   "execution_count": null,
   "id": "continuing-gather",
   "metadata": {},
   "outputs": [],
   "source": []
  },
  {
   "cell_type": "code",
   "execution_count": null,
   "id": "secret-memorabilia",
   "metadata": {},
   "outputs": [],
   "source": []
  },
  {
   "cell_type": "code",
   "execution_count": 3,
   "id": "increasing-vegetation",
   "metadata": {},
   "outputs": [],
   "source": [
    "def create_empirical_dist_fn(sample):\n",
    "    \"\"\"\n",
    "    takes as input a sample, and outputs the empirical distribution\n",
    "    function of the sample\n",
    "    \"\"\"\n",
    "    n = len(sample)\n",
    "    def Fn(x):\n",
    "        return (sample < x).sum()/n\n",
    "    return Fn"
   ]
  },
  {
   "cell_type": "code",
   "execution_count": 4,
   "id": "functioning-hunter",
   "metadata": {},
   "outputs": [],
   "source": [
    "def create_confidence_band(sample, alpha):\n",
    "    \"\"\"\n",
    "    takes as input a sample, and outputs a 1-alpha confidence band for the\n",
    "    cdf of generating distribution, using bounds from dwk inequality\n",
    "    output is Ln and Un which give lower bound and upper bound of\n",
    "    cdf\n",
    "    \"\"\"\n",
    "    n = len(sample)\n",
    "    Fn = create_empirical_dist_fn(sample)\n",
    "    eps_n = (math.log(2/alpha)/2/n)**0.5\n",
    "    \n",
    "    @vectorize([float64(float64)])\n",
    "    def Ln(x):\n",
    "        Fnx = Fn(x)\n",
    "        return max(0, Fnx - eps_n)\n",
    "    \n",
    "    @vectorize([float64(float64)])\n",
    "    def Un(x):\n",
    "        Fnx = Fn(x)\n",
    "        return min(1, Fnx + eps_n)\n",
    "    \n",
    "    return Ln, Un"
   ]
  },
  {
   "cell_type": "code",
   "execution_count": 5,
   "id": "isolated-parent",
   "metadata": {},
   "outputs": [],
   "source": [
    "def test_sample(sample, alpha, plot = False):\n",
    "    \"\"\"\n",
    "    takes as input a sample, and determines if the 1-alpha confidence band\n",
    "    produced from it contains the true cdf\n",
    "    \n",
    "    if optional argument plot is True, produces a line plot to visualise whether\n",
    "    the cdf is contained in the band or not\n",
    "    \"\"\"\n",
    "    Ln, Un = create_confidence_band(sample, alpha)\n",
    "    x = np.arange(min(sample)+0.1, max(sample), 0.1)\n",
    "    Lnx = Ln(x)\n",
    "    Unx = Un(x)\n",
    "    norm_x = norm.cdf(x)\n",
    "    \n",
    "    if plot:\n",
    "        plt.plot(x, Lnx)\n",
    "        plt.plot(x, Unx)\n",
    "        plt.plot(x, norm_x)\n",
    "        plt.show()\n",
    "    return np.logical_and((norm_x >= Lnx).all(), (norm_x <= Unx).all())"
   ]
  },
  {
   "cell_type": "code",
   "execution_count": 6,
   "id": "adolescent-wrong",
   "metadata": {},
   "outputs": [],
   "source": [
    "sample = np.random.normal(size = 100)"
   ]
  },
  {
   "cell_type": "code",
   "execution_count": 8,
   "id": "directed-interference",
   "metadata": {},
   "outputs": [
    {
     "data": {
      "image/png": "[encoded data removed]",
      "text/plain": [
       "<Figure size 432x288 with 1 Axes>"
      ]
     },
     "metadata": {
      "needs_background": "light"
     },
     "output_type": "display_data"
    },
    {
     "data": {
      "text/plain": [
       "True"
      ]
     },
     "execution_count": 8,
     "metadata": {},
     "output_type": "execute_result"
    }
   ],
   "source": [
    "test_sample(sample, alpha = 0.05, plot=True)"
   ]
  },
  {
   "cell_type": "code",
   "execution_count": 9,
   "id": "confident-gregory",
   "metadata": {},
   "outputs": [],
   "source": [
    "def create_test_N_samples(N, sample_size = 100, alpha = 0.05):\n",
    "    \"\"\"\n",
    "    create N samples, and determine what proportion of them produce confidence\n",
    "    bands that contain the true cdf\n",
    "    \"\"\"\n",
    "    within_confidence_band = 0\n",
    "    for i in tqdm(range(N)):\n",
    "        sample = np.random.normal(size = sample_size)\n",
    "        within_confidence_band += test_sample(sample, alpha)\n",
    "    \n",
    "    return within_confidence_band / N"
   ]
  },
  {
   "cell_type": "code",
   "execution_count": 11,
   "id": "laden-burst",
   "metadata": {},
   "outputs": [
    {
     "data": {
      "application/vnd.jupyter.widget-view+json": {
       "model_id": "4b4b19d224cf423fa075df3fa60c9f99",
       "version_major": 2,
       "version_minor": 0
      },
      "text/plain": [
       "  0%|          | 0/1000 [00:00<?, ?it/s]"
      ]
     },
     "metadata": {},
     "output_type": "display_data"
    }
   ],
   "source": [
    "ratio = create_test_N_samples(1000)"
   ]
  },
  {
   "cell_type": "code",
   "execution_count": 12,
   "id": "valid-kenya",
   "metadata": {},
   "outputs": [
    {
     "data": {
      "text/plain": [
       "0.971"
      ]
     },
     "execution_count": 12,
     "metadata": {},
     "output_type": "execute_result"
    }
   ],
   "source": [
    "ratio"
   ]
  }
 ],
 "metadata": {
  "kernelspec": {
   "display_name": "Python 3",
   "language": "python",
   "name": "python3"
  },
  "language_info": {
   "codemirror_mode": {
    "name": "ipython",
    "version": 3
   },
   "file_extension": ".py",
   "mimetype": "text/x-python",
   "name": "python",
   "nbconvert_exporter": "python",
   "pygments_lexer": "ipython3",
   "version": "3.8.5"
  }
 },
 "nbformat": 4,
 "nbformat_minor": 5
}
