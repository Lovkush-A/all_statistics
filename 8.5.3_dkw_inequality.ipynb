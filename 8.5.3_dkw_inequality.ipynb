{
 "cells": [
  {
   "cell_type": "markdown",
   "id": "educational-surprise",
   "metadata": {},
   "source": [
    "# All Statistics 8.5.3\n",
    "\n",
    "Create a sample of size 100 from normal distribution, and use DKW inequality to create a 95% confidence band from the sample. Then check wither the normal cdf lies in the confidence band.\n",
    "\n",
    "Do this 1000 times to see what the confidence actually is of the constructed confidence bands.\n",
    "\n",
    "Doing this experiment once gave a confidence of 0.971.\n",
    "Standard error of this confidence approximately equals sqrt(0.971*(1-0.971)/1000) = 0.005."
   ]
  },
  {
   "cell_type": "code",
   "execution_count": 1,
   "id": "temporal-machinery",
   "metadata": {},
   "outputs": [],
   "source": [
    "from tqdm.notebook import tqdm\n",
    "\n",
    "import math\n",
    "import numpy as np\n",
    "from scipy.stats import norm\n",
    "from numba import vectorize, float64\n",
    "\n",
    "import matplotlib.pyplot as plt\n",
    "\n",
    "import warnings\n",
    "warnings.filterwarnings('ignore')"
   ]
  },
  {
   "cell_type": "code",
   "execution_count": 2,
   "id": "lightweight-vintage",
   "metadata": {},
   "outputs": [],
   "source": [
    "np.random.seed(0)"
   ]
  },
  {
   "cell_type": "code",
   "execution_count": 3,
   "id": "human-copying",
   "metadata": {},
   "outputs": [],
   "source": [
    "def create_empirical_dist_fn(sample):\n",
    "    \"\"\"\n",
    "    takes as input a sample, and outputs the empirical distribution\n",
    "    function of the sample\n",
    "    \"\"\"\n",
    "    n = len(sample)\n",
    "    def Fn(x):\n",
    "        return (sample < x).sum()/n\n",
    "    return Fn"
   ]
  },
  {
   "cell_type": "code",
   "execution_count": 4,
   "id": "retired-birth",
   "metadata": {},
   "outputs": [],
   "source": [
    "def create_confidence_band(sample, alpha):\n",
    "    \"\"\"\n",
    "    takes as input a sample, and outputs a 1-alpha confidence band for the\n",
    "    cdf of generating distribution, using bounds from dwk inequality\n",
    "    output is Ln and Un which give lower bound and upper bound of\n",
    "    cdf\n",
    "    \"\"\"\n",
    "    n = len(sample)\n",
    "    Fn = create_empirical_dist_fn(sample)\n",
    "    eps_n = (math.log(2/alpha)/2/n)**0.5\n",
    "    \n",
    "    @vectorize([float64(float64)])\n",
    "    def Ln(x):\n",
    "        Fnx = Fn(x)\n",
    "        return max(0, Fnx - eps_n)\n",
    "    \n",
    "    @vectorize([float64(float64)])\n",
    "    def Un(x):\n",
    "        Fnx = Fn(x)\n",
    "        return min(1, Fnx + eps_n)\n",
    "    \n",
    "    return Ln, Un"
   ]
  },
  {
   "cell_type": "code",
   "execution_count": 5,
   "id": "medieval-rescue",
   "metadata": {},
   "outputs": [],
   "source": [
    "def test_sample(sample, alpha, plot = False):\n",
    "    \"\"\"\n",
    "    takes as input a sample, and determines if the 1-alpha confidence band\n",
    "    produced from it contains the true cdf\n",
    "    \n",
    "    if optional argument plot is True, produces a line plot to visualise whether\n",
    "    the cdf is contained in the band or not\n",
    "    \"\"\"\n",
    "    Ln, Un = create_confidence_band(sample, alpha)\n",
    "    x = np.arange(min(sample)+0.1, max(sample), 0.1)\n",
    "    Lnx = Ln(x)\n",
    "    Unx = Un(x)\n",
    "    norm_x = norm.cdf(x)\n",
    "    \n",
    "    if plot:\n",
    "        plt.plot(x, Lnx)\n",
    "        plt.plot(x, Unx)\n",
    "        plt.plot(x, norm_x)\n",
    "        plt.show()\n",
    "    return np.logical_and((norm_x >= Lnx).all(), (norm_x <= Unx).all())"
   ]
  },
  {
   "cell_type": "code",
   "execution_count": 6,
   "id": "rocky-tobacco",
   "metadata": {},
   "outputs": [],
   "source": [
    "sample = np.random.normal(size = 100)"
   ]
  },
  {
   "cell_type": "code",
   "execution_count": 8,
   "id": "russian-personal",
   "metadata": {},
   "outputs": [
    {
     "data": {
      "image/png": "[encoded data removed]",
      "text/plain": [
       "<Figure size 432x288 with 1 Axes>"
      ]
     },
     "metadata": {
      "needs_background": "light"
     },
     "output_type": "display_data"
    },
    {
     "data": {
      "text/plain": [
       "True"
      ]
     },
     "execution_count": 8,
     "metadata": {},
     "output_type": "execute_result"
    }
   ],
   "source": [
    "test_sample(sample, alpha = 0.05, plot=True)"
   ]
  },
  {
   "cell_type": "code",
   "execution_count": 9,
   "id": "pleasant-million",
   "metadata": {},
   "outputs": [],
   "source": [
    "def create_test_N_samples(N, sample_size = 100, alpha = 0.05):\n",
    "    \"\"\"\n",
    "    create N samples, and determine what proportion of them produce confidence\n",
    "    bands that contain the true cdf\n",
    "    \"\"\"\n",
    "    within_confidence_band = 0\n",
    "    for i in tqdm(range(N)):\n",
    "        sample = np.random.normal(size = sample_size)\n",
    "        within_confidence_band += test_sample(sample, alpha)\n",
    "    \n",
    "    return within_confidence_band / N"
   ]
  },
  {
   "cell_type": "code",
   "execution_count": 11,
   "id": "based-melbourne",
   "metadata": {},
   "outputs": [
    {
     "data": {
      "application/vnd.jupyter.widget-view+json": {
       "model_id": "4b4b19d224cf423fa075df3fa60c9f99",
       "version_major": 2,
       "version_minor": 0
      },
      "text/plain": [
       "  0%|          | 0/1000 [00:00<?, ?it/s]"
      ]
     },
     "metadata": {},
     "output_type": "display_data"
    }
   ],
   "source": [
    "ratio = create_test_N_samples(1000)"
   ]
  },
  {
   "cell_type": "code",
   "execution_count": 12,
   "id": "functional-length",
   "metadata": {},
   "outputs": [
    {
     "data": {
      "text/plain": [
       "0.971"
      ]
     },
     "execution_count": 12,
     "metadata": {},
     "output_type": "execute_result"
    }
   ],
   "source": [
    "ratio"
   ]
  }
 ],
 "metadata": {
  "kernelspec": {
   "display_name": "Python 3",
   "language": "python",
   "name": "python3"
  },
  "language_info": {
   "codemirror_mode": {
    "name": "ipython",
    "version": 3
   },
   "file_extension": ".py",
   "mimetype": "text/x-python",
   "name": "python",
   "nbconvert_exporter": "python",
   "pygments_lexer": "ipython3",
   "version": "3.8.5"
  }
 },
 "nbformat": 4,
 "nbformat_minor": 5
}
