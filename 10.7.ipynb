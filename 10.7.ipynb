{
 "cells": [
  {
   "cell_type": "markdown",
   "id": "reasonable-detective",
   "metadata": {},
   "source": [
    "# 10.7. parametric bootstrap versus the delta method\n",
    "\n",
    "X1~Bin(n1, p1)\n",
    "\n",
    "X2~Bin(n2, p2)\n",
    "\n",
    "n1=n2=200, X1=160, X2=148\n",
    "\n",
    "p1 and p2 are unknown\n",
    "\n",
    "psi = p1-p2\n",
    "\n",
    "MLE of p1 = p1_hat = X1/n1. similar for p2\n",
    "\n",
    "MLE of psi = psi_hat = p1_hat - p2_hat\n",
    "\n",
    "variance of psi_hat from delta method is p1_hat(1-p1_hat)/n1 + p2_hat(1-p2_hat)/n2"
   ]
  },
  {
   "cell_type": "code",
   "execution_count": 1,
   "id": "funded-utilization",
   "metadata": {},
   "outputs": [],
   "source": [
    "from scipy.stats import binom\n",
    "from scipy.stats import norm\n",
    "import numpy as np"
   ]
  },
  {
   "cell_type": "code",
   "execution_count": 2,
   "id": "naughty-installation",
   "metadata": {},
   "outputs": [],
   "source": [
    "def create_normal_confidence_interval(theta_hat, se_hat, confidence):\n",
    "    \"\"\"\n",
    "    produce confidence interval using normal approximation\n",
    "    \"\"\"\n",
    "    return norm.interval(confidence, loc=theta_hat, scale=se_hat)"
   ]
  },
  {
   "cell_type": "markdown",
   "id": "going-papua",
   "metadata": {},
   "source": [
    "## set variables and calculate mle estimate of psi"
   ]
  },
  {
   "cell_type": "code",
   "execution_count": 3,
   "id": "latter-tomorrow",
   "metadata": {},
   "outputs": [
    {
     "name": "stdout",
     "output_type": "stream",
     "text": [
      "0.06000000000000005\n"
     ]
    }
   ],
   "source": [
    "n1 = 200\n",
    "n2 = 200\n",
    "X1 = 160\n",
    "X2 = 148\n",
    "p1_hat = X1 / n1\n",
    "p2_hat = X2 / n2\n",
    "psi_hat = p1_hat - p2_hat\n",
    "\n",
    "print(psi_hat)"
   ]
  },
  {
   "cell_type": "markdown",
   "id": "closed-allowance",
   "metadata": {},
   "source": [
    "## calculate confidence interval using delta method"
   ]
  },
  {
   "cell_type": "code",
   "execution_count": 4,
   "id": "prescription-synthetic",
   "metadata": {},
   "outputs": [
    {
     "name": "stdout",
     "output_type": "stream",
     "text": [
      "0.04197618372363071\n",
      "(-0.009044678043395302, 0.12904467804339537)\n"
     ]
    }
   ],
   "source": [
    "se_psi_hat_delta = (p1_hat * (1 - p1_hat) / n1 + p2_hat * (1 - p2_hat) / n2) ** 0.5\n",
    "interval_delta = create_normal_confidence_interval(psi_hat, se_psi_hat_delta, 0.9)\n",
    "print(se_psi_hat_delta)\n",
    "print(interval_delta)"
   ]
  },
  {
   "cell_type": "markdown",
   "id": "veterinary-shopper",
   "metadata": {},
   "source": [
    "## calculate confidence interval using parametric bootstrap"
   ]
  },
  {
   "cell_type": "code",
   "execution_count": 5,
   "id": "listed-killer",
   "metadata": {},
   "outputs": [],
   "source": [
    "from scipy.stats import binom"
   ]
  },
  {
   "cell_type": "code",
   "execution_count": 6,
   "id": "express-trouble",
   "metadata": {},
   "outputs": [],
   "source": [
    "def create_bootstrap_estimates_psi(n1, n2, X1, X2, n_bootstrap, random_state=0):\n",
    "    \"\"\"\n",
    "    create n_bootstrap many bootstrap estimates of psi\n",
    "    \"\"\"\n",
    "    p1_hat = X1 / n1\n",
    "    p2_hat = X2 / n2\n",
    "\n",
    "    p1_bootstrap = (\n",
    "        binom.rvs(n1, p1_hat, size=n_bootstrap, random_state=random_state) / n1\n",
    "    )\n",
    "    p2_bootstrap = (\n",
    "        binom.rvs(n2, p2_hat, size=n_bootstrap, random_state=random_state) / n2\n",
    "    )\n",
    "\n",
    "    return p1_bootstrap - p2_bootstrap"
   ]
  },
  {
   "cell_type": "code",
   "execution_count": 7,
   "id": "blessed-vessel",
   "metadata": {},
   "outputs": [],
   "source": [
    "psi_hat_bootstrap = create_bootstrap_estimates_psi(n1, n2, X1, X2, n_bootstrap=1000)"
   ]
  },
  {
   "cell_type": "code",
   "execution_count": 8,
   "id": "descending-access",
   "metadata": {},
   "outputs": [
    {
     "name": "stdout",
     "output_type": "stream",
     "text": [
      "0.043004771828251805\n",
      "(-0.010736554917920443, 0.13073655491792052)\n"
     ]
    }
   ],
   "source": [
    "se_psi_hat_bootstrap = np.std(psi_hat_bootstrap)\n",
    "interval_bootstrap = create_normal_confidence_interval(\n",
    "    psi_hat, se_psi_hat_bootstrap, 0.9\n",
    ")\n",
    "print(se_psi_hat_bootstrap)\n",
    "print(interval_bootstrap)"
   ]
  },
  {
   "cell_type": "code",
   "execution_count": null,
   "id": "former-conjunction",
   "metadata": {},
   "outputs": [],
   "source": []
  }
 ],
 "metadata": {
  "kernelspec": {
   "display_name": "Python 3",
   "language": "python",
   "name": "python3"
  },
  "language_info": {
   "codemirror_mode": {
    "name": "ipython",
    "version": 3
   },
   "file_extension": ".py",
   "mimetype": "text/x-python",
   "name": "python",
   "nbconvert_exporter": "python",
   "pygments_lexer": "ipython3",
   "version": "3.8.5"
  }
 },
 "nbformat": 4,
 "nbformat_minor": 5
}
