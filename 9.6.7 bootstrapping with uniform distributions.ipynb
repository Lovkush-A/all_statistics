{
 "cells": [
  {
   "cell_type": "markdown",
   "id": "august-comparison",
   "metadata": {},
   "source": [
    "# 9.6.7 bootstrapping with uniform distributions\n",
    "\n",
    "* `X1,...,Xn ~ Unif(0, theta)`\n",
    "* `theta_hat = mle = X_max = max(X_1,...,X_n)`\n",
    "* Comparing the true distribution of `theta_hat` with the bootstrap estimated distributions, using both non-parametric and parametric strategies for doing the bootstrap"
   ]
  },
  {
   "cell_type": "code",
   "execution_count": 1,
   "id": "overall-marble",
   "metadata": {},
   "outputs": [],
   "source": [
    "import numpy as np\n",
    "import matplotlib.pyplot as plt\n",
    "import seaborn as sns"
   ]
  },
  {
   "cell_type": "code",
   "execution_count": 2,
   "id": "coated-hundred",
   "metadata": {},
   "outputs": [],
   "source": [
    "np.random.seed(0)"
   ]
  },
  {
   "cell_type": "markdown",
   "id": "understood-budapest",
   "metadata": {},
   "source": [
    "## distribution of theta_hat\n",
    "\n",
    "```\n",
    "Pr(theta_hat < 0) = 0\n",
    "Pr(theta_hat > theta) = 0\n",
    "\n",
    "For 0<x<theta:\n",
    "Pr(theta_hat < x) = Pr(max(X_1,...,X_n) < x) = Pr(X_i < x for all i) = (x/theta)^n\n",
    "Hence, cdf of theta_hat is (x/theta)^n\n",
    "Hence, pdf of theta_hat is n * x^n-1 / theta^n\n",
    "```"
   ]
  },
  {
   "cell_type": "code",
   "execution_count": 3,
   "id": "radio-tolerance",
   "metadata": {},
   "outputs": [],
   "source": [
    "def plot_true_distribution(n, theta, ax):\n",
    "    \"\"\"\n",
    "    plots the true probability density function of\n",
    "    theta_hat = max(X_1,...,X_n), where X_i ~ Unif(0, theta)\n",
    "\n",
    "    inputs:\n",
    "        n - size of sample\n",
    "        theta - upper limit of uniform distribution\n",
    "\n",
    "    outputs:\n",
    "        plot of pdf of theta_hat\n",
    "    \"\"\"\n",
    "    x_values = np.linspace(0, 1, 10 * n)\n",
    "    pdf_values = n * np.power(x_values, n - 1) / np.power(theta, n)\n",
    "\n",
    "    ax.plot(x_values, pdf_values, label=\"true_distribution\")\n",
    "\n",
    "    return ax"
   ]
  },
  {
   "cell_type": "markdown",
   "id": "magnetic-moderator",
   "metadata": {},
   "source": [
    "## estimated distribution of theta_hat from bootstraps"
   ]
  },
  {
   "cell_type": "code",
   "execution_count": 4,
   "id": "specific-merchant",
   "metadata": {},
   "outputs": [],
   "source": [
    "def create_sample_uniform(n, theta):\n",
    "    \"\"\"\n",
    "    create n samples from Unif(0, theta)\n",
    "\n",
    "    inputs:\n",
    "        n - size of sample\n",
    "        theta - upper limit of uniform distribution\n",
    "\n",
    "    outputs:\n",
    "        numpy array - sample of size n from distribution\n",
    "    \"\"\"\n",
    "    return np.random.random(size=n) * theta"
   ]
  },
  {
   "cell_type": "code",
   "execution_count": 5,
   "id": "comprehensive-marathon",
   "metadata": {},
   "outputs": [],
   "source": [
    "def create_bootstrap_sample(sample, strategy=\"nonparametric\"):\n",
    "    \"\"\"\n",
    "    create a bootstrap sample from a sample from a uniform distribution\n",
    "\n",
    "    inputs:\n",
    "        sample - numpy array of a sample of data\n",
    "        strategy - either 'nonparametric' or 'parametric'\n",
    "\n",
    "    outputs:\n",
    "        bootstrap_samply - numpy array of a bootstrap sample\n",
    "    \"\"\"\n",
    "    n = sample.shape[0]\n",
    "    theta_hat = max(sample)\n",
    "\n",
    "    if strategy == \"nonparametric\":\n",
    "        # approximate true distribution using empirical distribution fn\n",
    "        # sampling from this approximation is equivalent to picking\n",
    "        # from the sample n times with replacement\n",
    "        return np.random.choice(sample, n)\n",
    "\n",
    "    elif strategy == \"parametric\":\n",
    "        # approximate true distribution using Unif(0, theta_hat)\n",
    "        # where theta_hat is max(sample)\n",
    "        return create_sample_uniform(n, theta_hat)"
   ]
  },
  {
   "cell_type": "code",
   "execution_count": 6,
   "id": "undefined-creativity",
   "metadata": {},
   "outputs": [],
   "source": [
    "def create_bootstrap_distribution(sample, K, strategy=\"nonparametric\"):\n",
    "    \"\"\"\n",
    "    given a sample from Unif(0,theta), create K bootstrap estimates\n",
    "    of theta_hat\n",
    "\n",
    "    inputs:\n",
    "        sample - numpy array of a sample of data\n",
    "        K - number of bootstrap estimates to create\n",
    "        strategy - either 'nonparametric' or 'parametric'\n",
    "\n",
    "    outputs:\n",
    "        theta_hat_stars - numpy of array of length K\n",
    "          of bootstrap estimates of theta_hat\n",
    "    \"\"\"\n",
    "    theta_hat_stars = np.empty(shape=(K,))\n",
    "\n",
    "    for i in range(K):\n",
    "        theta_hat_stars[i] = max(create_bootstrap_sample(sample, strategy=strategy))\n",
    "\n",
    "    return theta_hat_stars"
   ]
  },
  {
   "cell_type": "code",
   "execution_count": 7,
   "id": "electrical-organic",
   "metadata": {},
   "outputs": [
    {
     "name": "stdout",
     "output_type": "stream",
     "text": [
      "0.978618342232764\n"
     ]
    }
   ],
   "source": [
    "n = 50\n",
    "theta = 1\n",
    "sample = create_sample_uniform(n, theta)\n",
    "theta_hat = max(sample)\n",
    "print(theta_hat)"
   ]
  },
  {
   "cell_type": "code",
   "execution_count": 8,
   "id": "younger-expansion",
   "metadata": {},
   "outputs": [
    {
     "data": {
      "text/plain": [
       "<matplotlib.legend.Legend at 0x7fd3ede036a0>"
      ]
     },
     "execution_count": 8,
     "metadata": {},
     "output_type": "execute_result"
    },
    {
     "data": {
      "image/png": "[encoded data removed]",
      "text/plain": [
       "<Figure size 720x720 with 3 Axes>"
      ]
     },
     "metadata": {
      "needs_background": "light"
     },
     "output_type": "display_data"
    }
   ],
   "source": [
    "theta_hat_stars_nonp = create_bootstrap_distribution(\n",
    "    sample, K=1000, strategy=\"nonparametric\"\n",
    ")\n",
    "theta_hat_stars_p = create_bootstrap_distribution(sample, K=1000, strategy=\"parametric\")\n",
    "\n",
    "xmin = min(min(theta_hat_stars_nonp), min(theta_hat_stars_p))\n",
    "\n",
    "fig, axs = plt.subplots(nrows=3, ncols=1, figsize=(10, 10), sharex=True)\n",
    "axs[0].set_xlim(left=xmin, right=1)\n",
    "\n",
    "sns.histplot(\n",
    "    theta_hat_stars_nonp, label=\"non-parametric bootstrap distribution\", ax=axs[0]\n",
    ")\n",
    "axs[0].axvline(x=theta_hat, color=\"red\", label=\"theta_hat\")\n",
    "axs[0].legend()\n",
    "\n",
    "sns.histplot(theta_hat_stars_p, label=\"parametric bootstrap distribution\", ax=axs[1])\n",
    "axs[1].axvline(x=theta_hat, color=\"red\", label=\"theta_hat\")\n",
    "axs[1].legend()\n",
    "\n",
    "axs[2] = plot_true_distribution(n, theta, axs[2])\n",
    "axs[2].axvline(x=theta_hat, color=\"red\", label=\"theta_hat\")\n",
    "axs[2].legend()"
   ]
  },
  {
   "cell_type": "markdown",
   "id": "signed-default",
   "metadata": {},
   "source": [
    "## calculate probability of p_hat^star = p_hat"
   ]
  },
  {
   "cell_type": "markdown",
   "id": "ongoing-recipient",
   "metadata": {},
   "source": [
    "### parametric\n",
    "In parametric case, `p_hat^star` has a continuous distribution, so probability of it equalling any value is 0, so in particular,  `Pr(p_hat^star = p_hat) = 0`"
   ]
  },
  {
   "cell_type": "markdown",
   "id": "important-valve",
   "metadata": {},
   "source": [
    "### non-parametric\n",
    "`Pr(p_hat^star = p_hat)` is the probability that at least one of the elements of a single bootstrap sample is equal to `p_hat`.  The negation of this is odds of all elements not being equal to `p_hat`, which equals `(1-1/n)^n` which tends to `exp(-1)` as `n` tends to infinity.\n",
    "\n",
    "Hence, `Pr(p_hat^star = p_hat) = 1 - (1-1/n)^n \\approx 1 - exp(-1) \\approx 0.632`, as required"
   ]
  },
  {
   "cell_type": "code",
   "execution_count": null,
   "id": "statutory-prediction",
   "metadata": {},
   "outputs": [],
   "source": []
  }
 ],
 "metadata": {
  "kernelspec": {
   "display_name": "Python 3",
   "language": "python",
   "name": "python3"
  },
  "language_info": {
   "codemirror_mode": {
    "name": "ipython",
    "version": 3
   },
   "file_extension": ".py",
   "mimetype": "text/x-python",
   "name": "python",
   "nbconvert_exporter": "python",
   "pygments_lexer": "ipython3",
   "version": "3.8.5"
  }
 },
 "nbformat": 4,
 "nbformat_minor": 5
}
